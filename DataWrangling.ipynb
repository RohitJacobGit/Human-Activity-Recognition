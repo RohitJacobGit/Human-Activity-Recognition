{
 "cells": [
  {
   "cell_type": "code",
   "execution_count": 6,
   "metadata": {},
   "outputs": [],
   "source": [
    "import pandas as pd\n",
    "import numpy as np\n",
    "import seaborn as sns\n",
    "import os\n",
    "from scipy import stats\n",
    "import glob\n",
    "import matplotlib.pyplot as plt\n",
    "%matplotlib inline"
   ]
  },
  {
   "cell_type": "code",
   "execution_count": 7,
   "metadata": {},
   "outputs": [],
   "source": [
    "# Read the training file\n",
    "df_train_csv = pd.read_csv('files/train.csv')"
   ]
  },
  {
   "cell_type": "code",
   "execution_count": 8,
   "metadata": {},
   "outputs": [],
   "source": [
    "# Extract the individual subjects from training set\n",
    "df_train_csv_subjects = list(dict(df_train_csv['Subject'].value_counts()).keys())"
   ]
  },
  {
   "cell_type": "code",
   "execution_count": 9,
   "metadata": {},
   "outputs": [],
   "source": [
    "list_of_dfs = [] # To store the dataframes\n",
    "\n",
    "def parse_subject_files(subject,all_files):\n",
    "    '''\n",
    "    Input: Subject in the train file and all the instances(files) of that subject\n",
    "    \n",
    "    1. Loop through all the files(instances) of the subject present the subject folder\n",
    "    2. Validating the subject in the train file.\n",
    "    3. Add the list of dataframes into list_of_dfs\n",
    "    \n",
    "    '''\n",
    "    print(subject,' : started processing.....')\n",
    "    \n",
    "    for filename in all_files:\n",
    "        df = pd.read_csv(filename, header=None)\n",
    "        if filename.split(sep='/')[7] in list(df_train_csv['Datafile'].str\n",
    "                                                                      .partition('/')[2]):\n",
    "            current_label = (df_train_csv[df_train_csv['Datafile']==\n",
    "                                          (''.join([subject,'/',filename.split(sep='/')[7]]))]\n",
    "                                          ['Label'].values[0])\n",
    "            df['Label'] = current_label\n",
    "            list_of_dfs.append(df)\n",
    "            \n",
    "    print(subject,' : completed processing')"
   ]
  },
  {
   "cell_type": "code",
   "execution_count": 10,
   "metadata": {},
   "outputs": [
    {
     "name": "stdout",
     "output_type": "stream",
     "text": [
      "Subject06  : started processing.....\n",
      "Subject06  : completed processing\n",
      "Subject07  : started processing.....\n",
      "Subject07  : completed processing\n",
      "Subject17  : started processing.....\n",
      "Subject17  : completed processing\n",
      "Subject12  : started processing.....\n",
      "Subject12  : completed processing\n",
      "Subject19  : started processing.....\n",
      "Subject19  : completed processing\n",
      "Subject02  : started processing.....\n",
      "Subject02  : completed processing\n",
      "Subject03  : started processing.....\n",
      "Subject03  : completed processing\n",
      "Subject13  : started processing.....\n",
      "Subject13  : completed processing\n",
      "Subject09  : started processing.....\n",
      "Subject09  : completed processing\n",
      "Subject05  : started processing.....\n",
      "Subject05  : completed processing\n",
      "Subject04  : started processing.....\n",
      "Subject04  : completed processing\n",
      "Subject18  : started processing.....\n",
      "Subject18  : completed processing\n",
      "Subject11  : started processing.....\n",
      "Subject11  : completed processing\n",
      "Subject08  : started processing.....\n",
      "Subject08  : completed processing\n",
      "Subject16  : started processing.....\n",
      "Subject16  : completed processing\n"
     ]
    }
   ],
   "source": [
    "# Loop through each subject in the train file and call the parse_subject_files definition\n",
    "for i in range(len(df_train_csv_subjects)):\n",
    "    path = r'/Users/rohitanand/Documents/bbdc2019/files/'+df_train_csv_subjects[i]\n",
    "    all_files = glob.glob(path + \"/*.csv\")\n",
    "    parse_subject_files(df_train_csv_subjects[i],all_files)"
   ]
  },
  {
   "cell_type": "code",
   "execution_count": 12,
   "metadata": {},
   "outputs": [],
   "source": [
    "# Concat all the files in a single frame\n",
    "df_train_main = pd.concat(list_of_dfs, axis=0)"
   ]
  },
  {
   "cell_type": "code",
   "execution_count": 13,
   "metadata": {},
   "outputs": [],
   "source": [
    "# Rename the columns\n",
    "# A 'ground truth' column named as Label has been added as our y-variable\n",
    "df_train_main.columns = ['EMG1',\n",
    "                'EMG2',\n",
    "                'EMG3',\n",
    "                'EMG4',\n",
    "                'Airborne',\n",
    "                'ACC upper X',\n",
    "                'ACC upper Y',\n",
    "                'ACC upper Z',\n",
    "                'Goniometer X',\n",
    "                'ACC lower X',\n",
    "                'ACC lower Y',\n",
    "                'ACC loewr Z',\n",
    "                'Goniometer Y',\n",
    "                'Gyro upper X',\n",
    "                'Gyro upper Y',\n",
    "                'Gyro upper Z',\n",
    "                'Gyro lower X',\n",
    "                'Gyro lower Y',\n",
    "                'Gyro lower Z',\n",
    "                'Label']"
   ]
  },
  {
   "cell_type": "code",
   "execution_count": 14,
   "metadata": {},
   "outputs": [
    {
     "data": {
      "text/plain": [
       "(16367293, 20)"
      ]
     },
     "execution_count": 14,
     "metadata": {},
     "output_type": "execute_result"
    }
   ],
   "source": [
    "df_train_main.shape"
   ]
  },
  {
   "cell_type": "code",
   "execution_count": null,
   "metadata": {},
   "outputs": [],
   "source": []
  }
 ],
 "metadata": {
  "kernelspec": {
   "display_name": "Python 3",
   "language": "python",
   "name": "python3"
  },
  "language_info": {
   "codemirror_mode": {
    "name": "ipython",
    "version": 3
   },
   "file_extension": ".py",
   "mimetype": "text/x-python",
   "name": "python",
   "nbconvert_exporter": "python",
   "pygments_lexer": "ipython3",
   "version": "3.7.4"
  }
 },
 "nbformat": 4,
 "nbformat_minor": 2
}
